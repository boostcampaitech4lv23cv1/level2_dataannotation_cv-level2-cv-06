{
 "cells": [
  {
   "cell_type": "code",
   "execution_count": 1,
   "metadata": {},
   "outputs": [],
   "source": [
    "import os\n",
    "from collections import defaultdict\n",
    "import cv2"
   ]
  },
  {
   "cell_type": "code",
   "execution_count": 2,
   "metadata": {},
   "outputs": [],
   "source": [
    "path='../input/data/ICDAR17/annotation'\n",
    "img_path='../input/data/ICDAR17/images'\n",
    "train_json=defaultdict(list)\n",
    "image_info=defaultdict(list)\n",
    "for file_name in os.listdir(path):\n",
    "    img_name=file_name.split('_')[2]\n",
    "    img_name='img_'+img_name.split('.')[0]\n",
    "\n",
    "    extension=''\n",
    "    for img_list in os.listdir(img_path):\n",
    "        compare=img_list.split('.')[0]\n",
    "        if img_name == compare:\n",
    "            extension=os.path.splitext(img_list)[1]\n",
    "            break\n",
    "    img_name+=extension\n",
    "\n",
    "\n",
    "\n",
    "    words=defaultdict(list)\n",
    "    with open(os.path.join(path,file_name),'r') as f:\n",
    "        ind=0\n",
    "        for line in f:\n",
    "            annotation=line.split(',')\n",
    "            language_list=[]\n",
    "            for i in range(8,len(annotation)-1):\n",
    "                language_list.append(annotation[i])\n",
    "\n",
    "            words[str(ind)]=(\n",
    "                {\n",
    "                    \"points\":[\n",
    "                        [int(annotation[0]),int(annotation[1])],\n",
    "                        [int(annotation[2]),int(annotation[3])],\n",
    "                        [int(annotation[4]),int(annotation[5])],\n",
    "                        [int(annotation[6]),int(annotation[7])]\n",
    "                    ],\n",
    "                    \"transcription\":annotation[-1].rstrip('\\n'),\n",
    "                    \"language\":language_list,\n",
    "                    \"illegibility\": False,\n",
    "                    \"orientation\": \"Horizontal\",\n",
    "                    \"word_tags\": None\n",
    "\n",
    "                }\n",
    "            )\n",
    "            ind+=1\n",
    "    tmp=cv2.imread(img_path+'/'+img_name)\n",
    "    h,w,_=tmp.shape\n",
    "\n",
    "    image_info[img_name]=(\n",
    "        {\n",
    "            \"img_h\":h,\n",
    "            \"img_w\":w,\n",
    "            \"words\":words,\n",
    "            \"tags\":None,\n",
    "            \"license_tag\": {\n",
    "                \"usability\": True,\n",
    "                \"public\": True,\n",
    "                \"commercial\": True,\n",
    "                \"type\": \"CC-BY-SA\",\n",
    "                \"holder\": None\n",
    "            }\n",
    "        }\n",
    "    )\n",
    "    break\n",
    "train_json['images']=(image_info)\n"
   ]
  },
  {
   "cell_type": "code",
   "execution_count": 3,
   "metadata": {},
   "outputs": [],
   "source": [
    "import json\n",
    "with open(f'input/data/ICDAR17/ufo/train.json','w') as f:\n",
    "    json.dump(train_json,f,ensure_ascii=False,indent=4)\n"
   ]
  }
 ],
 "metadata": {
  "kernelspec": {
   "display_name": "Python 3.8.5 ('base')",
   "language": "python",
   "name": "python3"
  },
  "language_info": {
   "codemirror_mode": {
    "name": "ipython",
    "version": 3
   },
   "file_extension": ".py",
   "mimetype": "text/x-python",
   "name": "python",
   "nbconvert_exporter": "python",
   "pygments_lexer": "ipython3",
   "version": "3.8.5"
  },
  "orig_nbformat": 4,
  "vscode": {
   "interpreter": {
    "hash": "d4d1e4263499bec80672ea0156c357c1ee493ec2b1c70f0acce89fc37c4a6abe"
   }
  }
 },
 "nbformat": 4,
 "nbformat_minor": 2
}
